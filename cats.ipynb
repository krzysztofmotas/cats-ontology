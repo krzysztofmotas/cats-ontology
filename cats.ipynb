{
 "cells": [
  {
   "cell_type": "code",
   "execution_count": 7,
   "id": "4757b6b3-54ba-4060-9170-0028d881af3f",
   "metadata": {},
   "outputs": [
    {
     "name": "stderr",
     "output_type": "stream",
     "text": [
      "\n",
      "[notice] A new release of pip is available: 25.0 -> 25.1.1\n",
      "[notice] To update, run: python.exe -m pip install --upgrade pip\n"
     ]
    },
    {
     "name": "stdout",
     "output_type": "stream",
     "text": [
      "Requirement already satisfied: cognipy in c:\\users\\krzys\\appdata\\local\\programs\\python\\python311\\lib\\site-packages (1.0.5)\n",
      "Requirement already satisfied: pandas in c:\\users\\krzys\\appdata\\local\\programs\\python\\python311\\lib\\site-packages (from cognipy) (2.2.3)\n",
      "Requirement already satisfied: pydot in c:\\users\\krzys\\appdata\\local\\programs\\python\\python311\\lib\\site-packages (from cognipy) (4.0.0)\n",
      "Requirement already satisfied: ipywidgets in c:\\users\\krzys\\appdata\\local\\programs\\python\\python311\\lib\\site-packages (from cognipy) (8.1.7)\n",
      "Requirement already satisfied: graphviz in c:\\users\\krzys\\appdata\\local\\programs\\python\\python311\\lib\\site-packages (from cognipy) (0.20.3)\n",
      "Requirement already satisfied: comm>=0.1.3 in c:\\users\\krzys\\appdata\\roaming\\python\\python311\\site-packages (from ipywidgets->cognipy) (0.2.2)\n",
      "Requirement already satisfied: ipython>=6.1.0 in c:\\users\\krzys\\appdata\\roaming\\python\\python311\\site-packages (from ipywidgets->cognipy) (9.2.0)\n",
      "Requirement already satisfied: traitlets>=4.3.1 in c:\\users\\krzys\\appdata\\roaming\\python\\python311\\site-packages (from ipywidgets->cognipy) (5.14.3)\n",
      "Requirement already satisfied: widgetsnbextension~=4.0.14 in c:\\users\\krzys\\appdata\\local\\programs\\python\\python311\\lib\\site-packages (from ipywidgets->cognipy) (4.0.14)\n",
      "Requirement already satisfied: jupyterlab_widgets~=3.0.15 in c:\\users\\krzys\\appdata\\local\\programs\\python\\python311\\lib\\site-packages (from ipywidgets->cognipy) (3.0.15)\n",
      "Requirement already satisfied: numpy>=1.23.2 in c:\\users\\krzys\\appdata\\local\\programs\\python\\python311\\lib\\site-packages (from pandas->cognipy) (2.1.2)\n",
      "Requirement already satisfied: python-dateutil>=2.8.2 in c:\\users\\krzys\\appdata\\local\\programs\\python\\python311\\lib\\site-packages (from pandas->cognipy) (2.9.0.post0)\n",
      "Requirement already satisfied: pytz>=2020.1 in c:\\users\\krzys\\appdata\\local\\programs\\python\\python311\\lib\\site-packages (from pandas->cognipy) (2025.1)\n",
      "Requirement already satisfied: tzdata>=2022.7 in c:\\users\\krzys\\appdata\\local\\programs\\python\\python311\\lib\\site-packages (from pandas->cognipy) (2025.1)\n",
      "Requirement already satisfied: pyparsing>=3.0.9 in c:\\users\\krzys\\appdata\\local\\programs\\python\\python311\\lib\\site-packages (from pydot->cognipy) (3.2.3)\n",
      "Requirement already satisfied: colorama in c:\\users\\krzys\\appdata\\local\\programs\\python\\python311\\lib\\site-packages (from ipython>=6.1.0->ipywidgets->cognipy) (0.4.6)\n",
      "Requirement already satisfied: decorator in c:\\users\\krzys\\appdata\\roaming\\python\\python311\\site-packages (from ipython>=6.1.0->ipywidgets->cognipy) (5.2.1)\n",
      "Requirement already satisfied: ipython-pygments-lexers in c:\\users\\krzys\\appdata\\roaming\\python\\python311\\site-packages (from ipython>=6.1.0->ipywidgets->cognipy) (1.1.1)\n",
      "Requirement already satisfied: jedi>=0.16 in c:\\users\\krzys\\appdata\\roaming\\python\\python311\\site-packages (from ipython>=6.1.0->ipywidgets->cognipy) (0.19.2)\n",
      "Requirement already satisfied: matplotlib-inline in c:\\users\\krzys\\appdata\\roaming\\python\\python311\\site-packages (from ipython>=6.1.0->ipywidgets->cognipy) (0.1.7)\n",
      "Requirement already satisfied: prompt_toolkit<3.1.0,>=3.0.41 in c:\\users\\krzys\\appdata\\roaming\\python\\python311\\site-packages (from ipython>=6.1.0->ipywidgets->cognipy) (3.0.51)\n",
      "Requirement already satisfied: pygments>=2.4.0 in c:\\users\\krzys\\appdata\\roaming\\python\\python311\\site-packages (from ipython>=6.1.0->ipywidgets->cognipy) (2.19.1)\n",
      "Requirement already satisfied: stack_data in c:\\users\\krzys\\appdata\\roaming\\python\\python311\\site-packages (from ipython>=6.1.0->ipywidgets->cognipy) (0.6.3)\n",
      "Requirement already satisfied: typing_extensions>=4.6 in c:\\users\\krzys\\appdata\\local\\programs\\python\\python311\\lib\\site-packages (from ipython>=6.1.0->ipywidgets->cognipy) (4.12.2)\n",
      "Requirement already satisfied: six>=1.5 in c:\\users\\krzys\\appdata\\local\\programs\\python\\python311\\lib\\site-packages (from python-dateutil>=2.8.2->pandas->cognipy) (1.17.0)\n",
      "Requirement already satisfied: parso<0.9.0,>=0.8.4 in c:\\users\\krzys\\appdata\\roaming\\python\\python311\\site-packages (from jedi>=0.16->ipython>=6.1.0->ipywidgets->cognipy) (0.8.4)\n",
      "Requirement already satisfied: wcwidth in c:\\users\\krzys\\appdata\\roaming\\python\\python311\\site-packages (from prompt_toolkit<3.1.0,>=3.0.41->ipython>=6.1.0->ipywidgets->cognipy) (0.2.13)\n",
      "Requirement already satisfied: executing>=1.2.0 in c:\\users\\krzys\\appdata\\roaming\\python\\python311\\site-packages (from stack_data->ipython>=6.1.0->ipywidgets->cognipy) (2.2.0)\n",
      "Requirement already satisfied: asttokens>=2.1.0 in c:\\users\\krzys\\appdata\\roaming\\python\\python311\\site-packages (from stack_data->ipython>=6.1.0->ipywidgets->cognipy) (3.0.0)\n",
      "Requirement already satisfied: pure-eval in c:\\users\\krzys\\appdata\\roaming\\python\\python311\\site-packages (from stack_data->ipython>=6.1.0->ipywidgets->cognipy) (0.2.3)\n",
      "Note: you may need to restart the kernel to use updated packages.\n"
     ]
    }
   ],
   "source": [
    "%pip install cognipy\n",
    "\n",
    "from cognipy.ontology import Ontology, encode_string_for_graph_label\n",
    "import textwrap"
   ]
  },
  {
   "cell_type": "code",
   "execution_count": 8,
   "id": "061546b7-b2b7-4cd5-bc45-740250f914c9",
   "metadata": {},
   "outputs": [],
   "source": [
    "def graph_attribute_formatter(val):\n",
    "    if isinstance(val, list) or isinstance(val, set):\n",
    "        return \" | \".join(list(map(lambda i: encode_string_for_graph_label(graph_attribute_formatter(i)), val)))\n",
    "    elif isinstance(val, dict):\n",
    "        return \" | \".join(list(map(lambda i: i[0] + \" : \" + encode_string_for_graph_label(graph_attribute_formatter(i[1])), val.items())))\n",
    "    else:\n",
    "        return encode_string_for_graph_label(textwrap.fill(str(val), 40))"
   ]
  },
  {
   "cell_type": "code",
   "execution_count": 9,
   "id": "a03871e4-bc73-4cb5-b85f-5c49bdd13993",
   "metadata": {},
   "outputs": [],
   "source": [
    "onto = Ontology(\"cnl/file\", \"cats.encnl\",\n",
    "                evaluator=lambda e: eval(e, globals(), locals()),\n",
    "                graph_attribute_formatter=graph_attribute_formatter)"
   ]
  },
  {
   "cell_type": "code",
   "execution_count": 15,
   "id": "45e398e4-c493-486d-9e35-6f4735960437",
   "metadata": {},
   "outputs": [],
   "source": [
    "with open(\"cats_graph.png\", \"wb\") as f:\n",
    "    f.write(onto.create_graph(layout=\"force directed\", format=\"png\"))"
   ]
  },
  {
   "cell_type": "code",
   "execution_count": 2,
   "id": "2994847e",
   "metadata": {},
   "outputs": [
    {
     "name": "stdout",
     "output_type": "stream",
     "text": [
      "Collecting rdflib\n",
      "  Downloading rdflib-7.1.4-py3-none-any.whl.metadata (11 kB)\n",
      "Requirement already satisfied: pyparsing<4,>=2.1.0 in c:\\users\\krzys\\appdata\\local\\programs\\python\\python311\\lib\\site-packages (from rdflib) (3.2.3)\n",
      "Downloading rdflib-7.1.4-py3-none-any.whl (565 kB)\n",
      "   ---------------------------------------- 0.0/565.1 kB ? eta -:--:--\n",
      "   ---------------------------------------- 565.1/565.1 kB 6.4 MB/s eta 0:00:00\n",
      "Installing collected packages: rdflib\n",
      "Successfully installed rdflib-7.1.4\n",
      "Note: you may need to restart the kernel to use updated packages.\n"
     ]
    },
    {
     "name": "stderr",
     "output_type": "stream",
     "text": [
      "  WARNING: The scripts csv2rdf.exe, rdf2dot.exe, rdfgraphisomorphism.exe, rdfpipe.exe and rdfs2dot.exe are installed in 'c:\\Users\\krzys\\AppData\\Local\\Programs\\Python\\Python311\\Scripts' which is not on PATH.\n",
      "  Consider adding this directory to PATH or, if you prefer to suppress this warning, use --no-warn-script-location.\n",
      "\n",
      "[notice] A new release of pip is available: 25.0 -> 25.1.1\n",
      "[notice] To update, run: python.exe -m pip install --upgrade pip\n"
     ]
    }
   ],
   "source": [
    "%pip install rdflib"
   ]
  },
  {
   "cell_type": "code",
   "execution_count": 16,
   "id": "61c412f9",
   "metadata": {},
   "outputs": [],
   "source": [
    "q = \"\"\"\n",
    "SELECT ?cat ?breed\n",
    "WHERE {\n",
    "    ?cat <http://cognipy.org/ontology#has-breed> ?breed .\n",
    "}\n",
    "\"\"\""
   ]
  },
  {
   "cell_type": "code",
   "execution_count": 17,
   "id": "2a66cf9c",
   "metadata": {},
   "outputs": [],
   "source": [
    "df = onto.sparql_query(q, asCNL=True)\n"
   ]
  },
  {
   "cell_type": "code",
   "execution_count": 18,
   "id": "4823d0cc",
   "metadata": {},
   "outputs": [
    {
     "name": "stdout",
     "output_type": "stream",
     "text": [
      "Empty DataFrame\n",
      "Columns: [cat, breed]\n",
      "Index: []\n"
     ]
    }
   ],
   "source": [
    "print(df)"
   ]
  },
  {
   "cell_type": "code",
   "execution_count": 19,
   "id": "5f978f58",
   "metadata": {},
   "outputs": [],
   "source": [
    "q = \"\"\"\n",
    "SELECT DISTINCT ?p\n",
    "WHERE {\n",
    "  ?s ?p ?o .\n",
    "}\n",
    "\"\"\""
   ]
  },
  {
   "cell_type": "code",
   "execution_count": 20,
   "id": "7de6dc5b",
   "metadata": {},
   "outputs": [
    {
     "data": {
      "text/html": [
       "<div>\n",
       "<style scoped>\n",
       "    .dataframe tbody tr th:only-of-type {\n",
       "        vertical-align: middle;\n",
       "    }\n",
       "\n",
       "    .dataframe tbody tr th {\n",
       "        vertical-align: top;\n",
       "    }\n",
       "\n",
       "    .dataframe thead th {\n",
       "        text-align: right;\n",
       "    }\n",
       "</style>\n",
       "<table border=\"1\" class=\"dataframe\">\n",
       "  <thead>\n",
       "    <tr style=\"text-align: right;\">\n",
       "      <th></th>\n",
       "      <th>p</th>\n",
       "    </tr>\n",
       "  </thead>\n",
       "  <tbody>\n",
       "    <tr>\n",
       "      <th>0</th>\n",
       "      <td>{'Name': 'http://www.w3.org/1999/02/22-rdf-syn...</td>\n",
       "    </tr>\n",
       "    <tr>\n",
       "      <th>1</th>\n",
       "      <td>{'Name': 'http://www.w3.org/1999/02/22-rdf-syn...</td>\n",
       "    </tr>\n",
       "    <tr>\n",
       "      <th>2</th>\n",
       "      <td>{'Name': 'http://www.w3.org/2002/07/owl#someVa...</td>\n",
       "    </tr>\n",
       "    <tr>\n",
       "      <th>3</th>\n",
       "      <td>{'Name': 'http://www.w3.org/2002/07/owl#onProp...</td>\n",
       "    </tr>\n",
       "    <tr>\n",
       "      <th>4</th>\n",
       "      <td>{'Name': 'http://www.w3.org/1999/02/22-rdf-syn...</td>\n",
       "    </tr>\n",
       "    <tr>\n",
       "      <th>5</th>\n",
       "      <td>{'Name': 'http://www.w3.org/2000/01/rdf-schema...</td>\n",
       "    </tr>\n",
       "    <tr>\n",
       "      <th>6</th>\n",
       "      <td>{'Name': 'http://www.w3.org/2001/XMLSchema#min...</td>\n",
       "    </tr>\n",
       "    <tr>\n",
       "      <th>7</th>\n",
       "      <td>{'Name': 'http://www.w3.org/2002/07/owl#withRe...</td>\n",
       "    </tr>\n",
       "    <tr>\n",
       "      <th>8</th>\n",
       "      <td>{'Name': 'http://www.w3.org/2002/07/owl#onData...</td>\n",
       "    </tr>\n",
       "    <tr>\n",
       "      <th>9</th>\n",
       "      <td>{'Name': 'http://www.w3.org/2001/XMLSchema#max...</td>\n",
       "    </tr>\n",
       "    <tr>\n",
       "      <th>10</th>\n",
       "      <td>{'Name': 'http://www.w3.org/2002/07/owl#comple...</td>\n",
       "    </tr>\n",
       "    <tr>\n",
       "      <th>11</th>\n",
       "      <td>{'Name': 'http://www.cognitum.eu/onto#hasTempe...</td>\n",
       "    </tr>\n",
       "    <tr>\n",
       "      <th>12</th>\n",
       "      <td>{'Name': 'http://www.cognitum.eu/onto#hasOrigi...</td>\n",
       "    </tr>\n",
       "    <tr>\n",
       "      <th>13</th>\n",
       "      <td>{'Name': 'http://www.cognitum.eu/onto#wears', ...</td>\n",
       "    </tr>\n",
       "    <tr>\n",
       "      <th>14</th>\n",
       "      <td>{'Name': 'http://www.cognitum.eu/onto#hasFavor...</td>\n",
       "    </tr>\n",
       "    <tr>\n",
       "      <th>15</th>\n",
       "      <td>{'Name': 'http://www.cognitum.eu/onto#sleepsIn...</td>\n",
       "    </tr>\n",
       "    <tr>\n",
       "      <th>16</th>\n",
       "      <td>{'Name': 'http://www.cognitum.eu/onto#likesFoo...</td>\n",
       "    </tr>\n",
       "    <tr>\n",
       "      <th>17</th>\n",
       "      <td>{'Name': 'http://www.cognitum.eu/onto#hasBreed...</td>\n",
       "    </tr>\n",
       "    <tr>\n",
       "      <th>18</th>\n",
       "      <td>{'Name': 'http://www.cognitum.eu/onto#hasBirth...</td>\n",
       "    </tr>\n",
       "    <tr>\n",
       "      <th>19</th>\n",
       "      <td>{'Name': 'http://www.cognitum.eu/onto#fears', ...</td>\n",
       "    </tr>\n",
       "    <tr>\n",
       "      <th>20</th>\n",
       "      <td>{'Name': 'http://www.w3.org/2002/07/owl#equiva...</td>\n",
       "    </tr>\n",
       "    <tr>\n",
       "      <th>21</th>\n",
       "      <td>{'Name': 'http://www.w3.org/2002/07/owl#sameAs...</td>\n",
       "    </tr>\n",
       "    <tr>\n",
       "      <th>22</th>\n",
       "      <td>{'Name': 'http://www.cognitum.eu/onto#hasNoSho...</td>\n",
       "    </tr>\n",
       "    <tr>\n",
       "      <th>23</th>\n",
       "      <td>{'Name': 'http://www.cognitum.eu/onto#hasLap',...</td>\n",
       "    </tr>\n",
       "    <tr>\n",
       "      <th>24</th>\n",
       "      <td>{'Name': 'http://www.cognitum.eu/onto#hasWeigh...</td>\n",
       "    </tr>\n",
       "    <tr>\n",
       "      <th>25</th>\n",
       "      <td>{'Name': 'http://www.cognitum.eu/onto#hasLifeS...</td>\n",
       "    </tr>\n",
       "    <tr>\n",
       "      <th>26</th>\n",
       "      <td>{'Name': 'http://www.w3.org/2002/07/owl#equiva...</td>\n",
       "    </tr>\n",
       "    <tr>\n",
       "      <th>27</th>\n",
       "      <td>{'Name': 'http://www.w3.org/2000/01/rdf-schema...</td>\n",
       "    </tr>\n",
       "    <tr>\n",
       "      <th>28</th>\n",
       "      <td>{'Name': 'http://www.cognitum.eu/onto#hasHobby...</td>\n",
       "    </tr>\n",
       "    <tr>\n",
       "      <th>29</th>\n",
       "      <td>{'Name': 'http://www.cognitum.eu/onto#hasNoLap...</td>\n",
       "    </tr>\n",
       "    <tr>\n",
       "      <th>30</th>\n",
       "      <td>{'Name': 'http://www.cognitum.eu/onto#hasShort...</td>\n",
       "    </tr>\n",
       "  </tbody>\n",
       "</table>\n",
       "</div>"
      ],
      "text/plain": [
       "                                                    p\n",
       "0   {'Name': 'http://www.w3.org/1999/02/22-rdf-syn...\n",
       "1   {'Name': 'http://www.w3.org/1999/02/22-rdf-syn...\n",
       "2   {'Name': 'http://www.w3.org/2002/07/owl#someVa...\n",
       "3   {'Name': 'http://www.w3.org/2002/07/owl#onProp...\n",
       "4   {'Name': 'http://www.w3.org/1999/02/22-rdf-syn...\n",
       "5   {'Name': 'http://www.w3.org/2000/01/rdf-schema...\n",
       "6   {'Name': 'http://www.w3.org/2001/XMLSchema#min...\n",
       "7   {'Name': 'http://www.w3.org/2002/07/owl#withRe...\n",
       "8   {'Name': 'http://www.w3.org/2002/07/owl#onData...\n",
       "9   {'Name': 'http://www.w3.org/2001/XMLSchema#max...\n",
       "10  {'Name': 'http://www.w3.org/2002/07/owl#comple...\n",
       "11  {'Name': 'http://www.cognitum.eu/onto#hasTempe...\n",
       "12  {'Name': 'http://www.cognitum.eu/onto#hasOrigi...\n",
       "13  {'Name': 'http://www.cognitum.eu/onto#wears', ...\n",
       "14  {'Name': 'http://www.cognitum.eu/onto#hasFavor...\n",
       "15  {'Name': 'http://www.cognitum.eu/onto#sleepsIn...\n",
       "16  {'Name': 'http://www.cognitum.eu/onto#likesFoo...\n",
       "17  {'Name': 'http://www.cognitum.eu/onto#hasBreed...\n",
       "18  {'Name': 'http://www.cognitum.eu/onto#hasBirth...\n",
       "19  {'Name': 'http://www.cognitum.eu/onto#fears', ...\n",
       "20  {'Name': 'http://www.w3.org/2002/07/owl#equiva...\n",
       "21  {'Name': 'http://www.w3.org/2002/07/owl#sameAs...\n",
       "22  {'Name': 'http://www.cognitum.eu/onto#hasNoSho...\n",
       "23  {'Name': 'http://www.cognitum.eu/onto#hasLap',...\n",
       "24  {'Name': 'http://www.cognitum.eu/onto#hasWeigh...\n",
       "25  {'Name': 'http://www.cognitum.eu/onto#hasLifeS...\n",
       "26  {'Name': 'http://www.w3.org/2002/07/owl#equiva...\n",
       "27  {'Name': 'http://www.w3.org/2000/01/rdf-schema...\n",
       "28  {'Name': 'http://www.cognitum.eu/onto#hasHobby...\n",
       "29  {'Name': 'http://www.cognitum.eu/onto#hasNoLap...\n",
       "30  {'Name': 'http://www.cognitum.eu/onto#hasShort..."
      ]
     },
     "execution_count": 20,
     "metadata": {},
     "output_type": "execute_result"
    }
   ],
   "source": [
    "onto.sparql_query(q, asCNL=False)\n"
   ]
  },
  {
   "cell_type": "code",
   "execution_count": 21,
   "id": "3afd06b4",
   "metadata": {},
   "outputs": [],
   "source": [
    "q = \"\"\"\n",
    "SELECT ?cat ?breed\n",
    "WHERE {\n",
    "  ?cat <http://www.cognitum.eu/onto#hasBreed> ?breed .\n",
    "}\n",
    "\"\"\""
   ]
  },
  {
   "cell_type": "code",
   "execution_count": 22,
   "id": "8b839d74",
   "metadata": {},
   "outputs": [],
   "source": [
    "df = onto.sparql_query(q, asCNL=True)\n"
   ]
  },
  {
   "cell_type": "code",
   "execution_count": 23,
   "id": "20a6294d",
   "metadata": {},
   "outputs": [
    {
     "name": "stdout",
     "output_type": "stream",
     "text": [
      "        cat                 breed\n",
      "0    Kropka                Laperm\n",
      "1     Mania             Devon-Rex\n",
      "2     Urwis  Norwegian-Forest-Cat\n",
      "3  Bonifacy   California-Spangled\n",
      "4     Zuzia               Bambino\n",
      "5    Adelka               Cheetoh\n",
      "6     Elton      Exotic-Shorthair\n",
      "7   Kajtula                Bombay\n",
      "8      Rudy                Cymric\n",
      "9     Gacek          Havana-Brown\n"
     ]
    }
   ],
   "source": [
    "print(df)\n"
   ]
  },
  {
   "cell_type": "code",
   "execution_count": 27,
   "id": "86d86dee",
   "metadata": {},
   "outputs": [
    {
     "name": "stdout",
     "output_type": "stream",
     "text": [
      "        cat                       date\n",
      "0     Gacek  2025-09-27T00:00:00+02:00\n",
      "1  Bonifacy  2025-02-24T00:00:00+01:00\n"
     ]
    }
   ],
   "source": [
    "q = \"\"\"\n",
    "SELECT ?cat ?date\n",
    "WHERE {\n",
    "  ?cat <http://www.cognitum.eu/onto#hasBirthday> ?date .\n",
    "  FILTER (?date > \"2025-01-01T00:00:00+01:00\"^^xsd:dateTime)\n",
    "}\n",
    "\"\"\"\n",
    "df = onto.sparql_query(q, asCNL=True)\n",
    "print(df)"
   ]
  },
  {
   "cell_type": "code",
   "execution_count": 30,
   "id": "cfb24293",
   "metadata": {},
   "outputs": [
    {
     "name": "stdout",
     "output_type": "stream",
     "text": [
      "                   breed\n",
      "0           Havana-Brown\n",
      "1             Abyssinian\n",
      "2                Donskoy\n",
      "3                   Manx\n",
      "4          Scottish-Fold\n",
      "5               Munchkin\n",
      "6                 Birman\n",
      "7                Malayan\n",
      "8              Pixie-Bob\n",
      "9   Colorpoint-Shorthair\n",
      "10              Nebelung\n",
      "11       Australian-Mist\n",
      "12                Bombay\n",
      "13      Japanese-Bobtail\n",
      "14      European-Burmese\n",
      "15      Exotic-Shorthair\n",
      "16    American-Shorthair\n",
      "17     American-Wirehair\n",
      "18               Bambino\n",
      "19             Tonkinese\n",
      "20   California-Spangled\n",
      "21             Dragon-Li\n",
      "22      British-Longhair\n",
      "23      American-Bobtail\n",
      "24                Somali\n",
      "25  Norwegian-Forest-Cat\n",
      "26         American-Curl\n",
      "27               Persian\n",
      "28             Singapura\n",
      "29             Himalayan\n",
      "30              Snowshoe\n",
      "31     Chantilly-Tiffany\n",
      "32          Egyptian-Mau\n",
      "33                Toyger\n",
      "34            Khao-Manee\n",
      "35        York-Chocolate\n",
      "36               Chausie\n",
      "37            Ragamuffin\n",
      "38                Aegean\n",
      "39              Kurilian\n",
      "40               Ragdoll\n",
      "41              Burmilla\n",
      "42     British-Shorthair\n",
      "43           Turkish-Van\n",
      "44                 Korat\n",
      "45                Cymric\n",
      "46                Cyprus\n",
      "47        Turkish-Angora\n",
      "48            Maine-Coon\n",
      "49           Arabian-Mau\n",
      "50              Savannah\n",
      "51               Cheetoh\n"
     ]
    }
   ],
   "source": [
    "q = \"\"\"\n",
    "SELECT ?breed\n",
    "WHERE {\n",
    "  ?breed a <http://www.cognitum.eu/onto#breed> .\n",
    "  FILTER NOT EXISTS {\n",
    "    ?breed a <http://www.cognitum.eu/onto#hypoallergenic> .\n",
    "  }\n",
    "}\n",
    "\"\"\"\n",
    "\n",
    "df = onto.sparql_query(q, asCNL=True)\n",
    "print(df)"
   ]
  },
  {
   "cell_type": "code",
   "execution_count": 44,
   "id": "6be17250",
   "metadata": {},
   "outputs": [
    {
     "name": "stdout",
     "output_type": "stream",
     "text": [
      "                   breed          origin\n",
      "0             Maine-Coon   United-States\n",
      "1                 Bengal   United-States\n",
      "2                 Somali         Somalia\n",
      "3               Javanese   United-States\n",
      "4                 Laperm        Thailand\n",
      "5       British-Longhair  United-Kingdom\n",
      "6                   Manx     Isle-Of-Man\n",
      "7       Japanese-Bobtail           Japan\n",
      "8            Turkish-Van          Turkey\n",
      "9                Chausie           Egypt\n",
      "10            Abyssinian           Egypt\n",
      "11                Bombay   United-States\n",
      "12              Kurilian          Russia\n",
      "13                Cymric          Canada\n",
      "14            Ragamuffin   United-States\n",
      "15      European-Burmese           Burma\n",
      "16              Snowshoe   United-States\n",
      "17             Devon-Rex  United-Kingdom\n",
      "18      American-Bobtail   United-States\n",
      "19                 Korat        Thailand\n",
      "20              Nebelung   United-States\n",
      "21          Havana-Brown  United-Kingdom\n",
      "22               Siamese        Thailand\n",
      "23              Savannah   United-States\n",
      "24             Tonkinese          Canada\n",
      "25        Turkish-Angora          Turkey\n",
      "26  Colorpoint-Shorthair   United-States\n",
      "27                Sphynx          Canada\n",
      "28   California-Spangled   United-States\n",
      "29                Ocicat   United-States\n",
      "30        York-Chocolate   United-States\n",
      "31     Chantilly-Tiffany   United-States\n",
      "32               Cheetoh   United-States\n",
      "33              Siberian          Russia\n",
      "34              Oriental   United-States\n",
      "35             Singapura       Singapore\n",
      "36               Bambino   United-States\n",
      "37                Toyger   United-States\n",
      "38               Burmese           Burma\n",
      "39              Munchkin   United-States\n",
      "40             Pixie-Bob   United-States\n",
      "41              Balinese   United-States\n",
      "42           Cornish-Rex  United-Kingdom\n"
     ]
    }
   ],
   "source": [
    "q = \"\"\"\n",
    "SELECT ?breed ?origin\n",
    "WHERE {\n",
    "  ?breed rdf:type <http://www.cognitum.eu/onto#veryIntelligent> .\n",
    "  ?breed <http://www.cognitum.eu/onto#hasOrigin> ?origin .\n",
    "}\n",
    "\"\"\"\n",
    "df = onto.sparql_query(q, asCNL=True)\n",
    "print(df)"
   ]
  },
  {
   "cell_type": "code",
   "execution_count": 69,
   "id": "12a9c442",
   "metadata": {},
   "outputs": [
    {
     "name": "stdout",
     "output_type": "stream",
     "text": [
      "              breed\n",
      "0  Japanese-Bobtail\n"
     ]
    }
   ],
   "source": [
    "q = \"\"\"\n",
    "SELECT ?breed\n",
    "WHERE {\n",
    "  ?breed a <http://www.cognitum.eu/onto#breed> .\n",
    "  ?breed <http://www.cognitum.eu/onto#hasOrigin> <http://www.cognitum.eu/onto#Japan> .\n",
    "}\n",
    "\"\"\"\n",
    "df = onto.sparql_query(q, asCNL=True)\n",
    "print(df)\n"
   ]
  },
  {
   "cell_type": "code",
   "execution_count": 70,
   "id": "970b90cd",
   "metadata": {},
   "outputs": [
    {
     "name": "stdout",
     "output_type": "stream",
     "text": [
      "        cat                       date\n",
      "0     Gacek  2025-09-27T00:00:00+02:00\n",
      "1  Bonifacy  2025-02-24T00:00:00+01:00\n",
      "2    Kropka  2022-03-29T00:00:00+02:00\n",
      "3     Zuzia  2021-02-27T00:00:00+01:00\n",
      "4     Mania  2023-02-16T00:00:00+01:00\n"
     ]
    }
   ],
   "source": [
    "q = \"\"\"\n",
    "SELECT ?cat ?date\n",
    "WHERE {\n",
    "  ?cat <http://www.cognitum.eu/onto#hasBirthday> ?date .\n",
    "  FILTER (?date > \"2020-01-01T00:00:00+01:00\"^^xsd:dateTime)\n",
    "}\n",
    "\"\"\"\n",
    "df = onto.sparql_query(q, asCNL=True)\n",
    "print(df)"
   ]
  },
  {
   "cell_type": "code",
   "execution_count": 71,
   "id": "720fc9ff",
   "metadata": {},
   "outputs": [
    {
     "name": "stdout",
     "output_type": "stream",
     "text": [
      "                   breed\n",
      "0           Havana-Brown\n",
      "1             Abyssinian\n",
      "2                Donskoy\n",
      "3                   Manx\n",
      "4          Scottish-Fold\n",
      "5               Munchkin\n",
      "6                 Birman\n",
      "7                Malayan\n",
      "8              Pixie-Bob\n",
      "9   Colorpoint-Shorthair\n",
      "10              Nebelung\n",
      "11       Australian-Mist\n",
      "12                Bombay\n",
      "13      Japanese-Bobtail\n",
      "14      European-Burmese\n",
      "15      Exotic-Shorthair\n",
      "16    American-Shorthair\n",
      "17     American-Wirehair\n",
      "18               Bambino\n",
      "19             Tonkinese\n",
      "20   California-Spangled\n",
      "21             Dragon-Li\n",
      "22      British-Longhair\n",
      "23      American-Bobtail\n",
      "24                Somali\n",
      "25  Norwegian-Forest-Cat\n",
      "26         American-Curl\n",
      "27               Persian\n",
      "28             Singapura\n",
      "29             Himalayan\n",
      "30              Snowshoe\n",
      "31     Chantilly-Tiffany\n",
      "32          Egyptian-Mau\n",
      "33                Toyger\n",
      "34            Khao-Manee\n",
      "35        York-Chocolate\n",
      "36               Chausie\n",
      "37            Ragamuffin\n",
      "38                Aegean\n",
      "39              Kurilian\n",
      "40               Ragdoll\n",
      "41              Burmilla\n",
      "42     British-Shorthair\n",
      "43           Turkish-Van\n",
      "44                 Korat\n",
      "45                Cymric\n",
      "46                Cyprus\n",
      "47        Turkish-Angora\n",
      "48            Maine-Coon\n",
      "49           Arabian-Mau\n",
      "50              Savannah\n",
      "51               Cheetoh\n"
     ]
    }
   ],
   "source": [
    "q = \"\"\"\n",
    "SELECT ?breed\n",
    "WHERE {\n",
    "  ?breed a <http://www.cognitum.eu/onto#breed> .\n",
    "  FILTER NOT EXISTS {\n",
    "    ?breed a <http://www.cognitum.eu/onto#hypoallergenic> .\n",
    "  }\n",
    "}\n",
    "\"\"\"\n",
    "df = onto.sparql_query(q, asCNL=True)\n",
    "print(df)"
   ]
  },
  {
   "cell_type": "code",
   "execution_count": 72,
   "id": "b772f1e9",
   "metadata": {},
   "outputs": [
    {
     "name": "stdout",
     "output_type": "stream",
     "text": [
      "              breed\n",
      "0  Japanese-Bobtail\n"
     ]
    }
   ],
   "source": [
    "q = \"\"\"\n",
    "SELECT ?breed\n",
    "WHERE {\n",
    "  ?breed a <http://www.cognitum.eu/onto#breed> .\n",
    "  ?breed <http://www.cognitum.eu/onto#hasOrigin> <http://www.cognitum.eu/onto#Japan> .\n",
    "}\n",
    "\"\"\"\n",
    "df = onto.sparql_query(q, asCNL=True)\n",
    "print(df)"
   ]
  },
  {
   "cell_type": "code",
   "execution_count": 73,
   "id": "d2c81f6c",
   "metadata": {},
   "outputs": [
    {
     "name": "stdout",
     "output_type": "stream",
     "text": [
      "        cat\n",
      "0     Gacek\n",
      "1     Mania\n",
      "2     Urwis\n",
      "3    Kropka\n",
      "4  Bonifacy\n"
     ]
    }
   ],
   "source": [
    "q = \"\"\"\n",
    "SELECT ?cat\n",
    "WHERE {\n",
    "  ?cat a <http://www.cognitum.eu/onto#cat> .\n",
    "  ?cat <http://www.cognitum.eu/onto#hasFavoriteToy> <http://www.cognitum.eu/onto#Ball> .\n",
    "}\n",
    "\"\"\"\n",
    "df = onto.sparql_query(q, asCNL=True)\n",
    "print(df)"
   ]
  },
  {
   "cell_type": "code",
   "execution_count": 74,
   "id": "448d26f4",
   "metadata": {},
   "outputs": [
    {
     "name": "stdout",
     "output_type": "stream",
     "text": [
      "        cat     place\n",
      "0     Urwis       Box\n",
      "1  Bonifacy       Box\n",
      "2   Kajtula  Wardrobe\n",
      "3    Adelka  Wardrobe\n"
     ]
    }
   ],
   "source": [
    "q = \"\"\"\n",
    "SELECT ?cat ?place\n",
    "WHERE {\n",
    "  ?cat <http://www.cognitum.eu/onto#sleepsIn> ?place .\n",
    "  FILTER (?place IN (\n",
    "    <http://www.cognitum.eu/onto#Box>,\n",
    "    <http://www.cognitum.eu/onto#Wardrobe>\n",
    "  ))\n",
    "}\n",
    "\"\"\"\n",
    "df = onto.sparql_query(q, asCNL=True)\n",
    "print(df)"
   ]
  },
  {
   "cell_type": "code",
   "execution_count": 75,
   "id": "2bb6a15a",
   "metadata": {},
   "outputs": [
    {
     "name": "stdout",
     "output_type": "stream",
     "text": [
      "                   breed\n",
      "0             Maine-Coon\n",
      "1                 Bengal\n",
      "2               Javanese\n",
      "3                 Laperm\n",
      "4       British-Longhair\n",
      "5                   Manx\n",
      "6       Japanese-Bobtail\n",
      "7            Turkish-Van\n",
      "8                Chausie\n",
      "9                 Bombay\n",
      "10                Cymric\n",
      "11            Ragamuffin\n",
      "12      European-Burmese\n",
      "13              Snowshoe\n",
      "14             Devon-Rex\n",
      "15      American-Bobtail\n",
      "16                 Korat\n",
      "17              Nebelung\n",
      "18          Havana-Brown\n",
      "19               Siamese\n",
      "20              Savannah\n",
      "21             Tonkinese\n",
      "22        Turkish-Angora\n",
      "23  Colorpoint-Shorthair\n",
      "24                Sphynx\n",
      "25   California-Spangled\n",
      "26                Ocicat\n",
      "27        York-Chocolate\n",
      "28     Chantilly-Tiffany\n",
      "29               Cheetoh\n",
      "30              Siberian\n",
      "31              Oriental\n",
      "32             Singapura\n",
      "33               Bambino\n",
      "34                Toyger\n",
      "35               Burmese\n",
      "36              Munchkin\n",
      "37             Pixie-Bob\n",
      "38              Balinese\n",
      "39           Cornish-Rex\n"
     ]
    }
   ],
   "source": [
    "q = \"\"\"\n",
    "SELECT ?breed\n",
    "WHERE {\n",
    "  ?breed a <http://www.cognitum.eu/onto#veryIntelligent> .\n",
    "  ?breed a <http://www.cognitum.eu/onto#childFriendly> .\n",
    "}\n",
    "\"\"\"\n",
    "df = onto.sparql_query(q, asCNL=True)\n",
    "print(df)"
   ]
  },
  {
   "cell_type": "code",
   "execution_count": 76,
   "id": "b4323d20",
   "metadata": {},
   "outputs": [
    {
     "name": "stdout",
     "output_type": "stream",
     "text": [
      "        cat     item\n",
      "0     Gacek  Blanket\n",
      "1   Kajtula  Blanket\n",
      "2      Rudy  Bandana\n",
      "3  Bonifacy  Blanket\n"
     ]
    }
   ],
   "source": [
    "q = \"\"\"\n",
    "SELECT ?cat ?item\n",
    "WHERE {\n",
    "  ?cat <http://www.cognitum.eu/onto#wears> ?item .\n",
    "}\n",
    "\"\"\"\n",
    "df = onto.sparql_query(q, asCNL=True)\n",
    "print(df)"
   ]
  },
  {
   "cell_type": "code",
   "execution_count": 77,
   "id": "d17dad00",
   "metadata": {},
   "outputs": [
    {
     "name": "stdout",
     "output_type": "stream",
     "text": [
      "      cat\n",
      "0   Mania\n",
      "1   Urwis\n",
      "2  Kropka\n"
     ]
    }
   ],
   "source": [
    "q = \"\"\"\n",
    "SELECT ?cat\n",
    "WHERE {\n",
    "  ?cat a <http://www.cognitum.eu/onto#cat> .\n",
    "  ?cat <http://www.cognitum.eu/onto#likesFood> <http://www.cognitum.eu/onto#Chicken> .\n",
    "}\n",
    "\"\"\"\n",
    "df = onto.sparql_query(q, asCNL=True)\n",
    "print(df)"
   ]
  },
  {
   "cell_type": "code",
   "execution_count": 79,
   "id": "54f330aa",
   "metadata": {},
   "outputs": [
    {
     "name": "stdout",
     "output_type": "stream",
     "text": [
      "      cat    place\n",
      "0   Elton  Hammock\n",
      "1  Kropka  Hammock\n",
      "2   Gacek     Sink\n",
      "3   Mania     Sink\n"
     ]
    }
   ],
   "source": [
    "q = \"\"\"\n",
    "SELECT ?cat ?place\n",
    "WHERE {\n",
    "  ?cat <http://www.cognitum.eu/onto#sleepsIn> ?place .\n",
    "  FILTER (?place IN (\n",
    "    <http://www.cognitum.eu/onto#Hammock>,\n",
    "    <http://www.cognitum.eu/onto#Sink>\n",
    "  ))\n",
    "}\n",
    "\"\"\"\n",
    "df = onto.sparql_query(q, asCNL=True)\n",
    "print(df)"
   ]
  },
  {
   "cell_type": "code",
   "execution_count": 91,
   "id": "7dbc3bf7",
   "metadata": {},
   "outputs": [
    {
     "name": "stdout",
     "output_type": "stream",
     "text": [
      "                                                                              class\n",
      "0          {'Name': 'http://www.cognitum.eu/onto#childFriendly', 'Kind': 'concept'}\n",
      "1                  {'Name': 'http://www.cognitum.eu/onto#breed', 'Kind': 'concept'}\n",
      "2           {'Name': 'http://www.cognitum.eu/onto#notEnergetic', 'Kind': 'concept'}\n",
      "3       {'Name': 'http://www.cognitum.eu/onto#notVeryEnergetic', 'Kind': 'concept'}\n",
      "4                    {'Name': 'http://www.cognitum.eu/onto#cat', 'Kind': 'concept'}\n",
      "5         {'Name': 'http://www.cognitum.eu/onto#huntingShadows', 'Kind': 'concept'}\n",
      "6      {'Name': 'http://www.cognitum.eu/onto#sleepingInTheSink', 'Kind': 'concept'}\n",
      "7            {'Name': 'http://www.cognitum.eu/onto#hairlessCat', 'Kind': 'concept'}\n",
      "8         {'Name': 'http://www.cognitum.eu/onto#hypoallergenic', 'Kind': 'concept'}\n",
      "9   {'Name': 'http://www.cognitum.eu/onto#notVeryChildFriendly', 'Kind': 'concept'}\n",
      "10             {'Name': 'http://www.cognitum.eu/onto#indoorCat', 'Kind': 'concept'}\n",
      "11          {'Name': 'http://www.cognitum.eu/onto#naturalBreed', 'Kind': 'concept'}\n",
      "12       {'Name': 'http://www.cognitum.eu/onto#veryIntelligent', 'Kind': 'concept'}\n",
      "13    {'Name': 'http://www.cognitum.eu/onto#notVeryIntelligent', 'Kind': 'concept'}\n",
      "14         {'Name': 'http://www.cognitum.eu/onto#veryEnergetic', 'Kind': 'concept'}\n",
      "15     {'Name': 'http://www.cognitum.eu/onto#veryChildFriendly', 'Kind': 'concept'}\n",
      "16           {'Name': 'http://www.cognitum.eu/onto#intelligent', 'Kind': 'concept'}\n",
      "17               {'Name': 'http://www.cognitum.eu/onto#country', 'Kind': 'concept'}\n",
      "18   {'Name': 'http://www.cognitum.eu/onto#climbingTheWardrobe', 'Kind': 'concept'}\n",
      "19            {'Name': 'http://www.cognitum.eu/onto#outdoorCat', 'Kind': 'concept'}\n",
      "20             {'Name': 'http://www.cognitum.eu/onto#energetic', 'Kind': 'concept'}\n",
      "21             {'Name': 'http://www.cognitum.eu/onto#rareBreed', 'Kind': 'concept'}\n",
      "22        {'Name': 'http://www.cognitum.eu/onto#unnaturalBreed', 'Kind': 'concept'}\n"
     ]
    }
   ],
   "source": [
    "q = \"\"\"\n",
    "SELECT ?class\n",
    "WHERE {\n",
    "  ?class a owl:Class .\n",
    "}\n",
    "\"\"\"\n",
    "df = onto.sparql_query(q, asCNL=False)\n",
    "print(df)"
   ]
  },
  {
   "cell_type": "code",
   "execution_count": 93,
   "id": "16817335",
   "metadata": {},
   "outputs": [
    {
     "name": "stdout",
     "output_type": "stream",
     "text": [
      "                  prop\n",
      "0    has-no-short-legs\n",
      "1              has-lap\n",
      "2        has-weight-kg\n",
      "3  has-life-span-years\n",
      "4            has-hobby\n",
      "5       has-short-legs\n",
      "6           has-no-lap\n"
     ]
    }
   ],
   "source": [
    "q = \"\"\"\n",
    "SELECT DISTINCT ?prop\n",
    "WHERE {\n",
    "  ?cls rdfs:subClassOf ?restriction .\n",
    "  ?restriction owl:onProperty ?prop .\n",
    "}\n",
    "\"\"\"\n",
    "df = onto.sparql_query(q, asCNL=True)\n",
    "print(df)"
   ]
  },
  {
   "cell_type": "code",
   "execution_count": 96,
   "id": "3c84aa55",
   "metadata": {},
   "outputs": [
    {
     "name": "stdout",
     "output_type": "stream",
     "text": [
      "                     prop                   type\n",
      "0       has-no-short-legs  some-values-from[owl]\n",
      "1       has-no-short-legs              type[rdf]\n",
      "2       has-no-short-legs     sub-class-of[rdfs]\n",
      "3       has-no-short-legs  equivalent-class[owl]\n",
      "4       has-no-short-legs  equivalent-class[owl]\n",
      "...                   ...                    ...\n",
      "751171  has-no-short-legs     sub-class-of[rdfs]\n",
      "751172  has-no-short-legs     sub-class-of[rdfs]\n",
      "751173  has-no-short-legs     sub-class-of[rdfs]\n",
      "751174  has-no-short-legs  equivalent-class[owl]\n",
      "751175  has-no-short-legs     sub-class-of[rdfs]\n",
      "\n",
      "[751176 rows x 2 columns]\n"
     ]
    }
   ],
   "source": [
    "q = \"\"\"\n",
    "SELECT ?prop ?type\n",
    "WHERE {\n",
    "  ?cls rdfs:subClassOf ?restriction .\n",
    "  ?restriction owl:onProperty ?prop ;\n",
    "               ?type ?val .\n",
    "  FILTER(?type != owl:onProperty)\n",
    "}\n",
    "\"\"\"\n",
    "df = onto.sparql_query(q, asCNL=True)\n",
    "print(df)\n"
   ]
  },
  {
   "cell_type": "code",
   "execution_count": 97,
   "id": "cc236b3e",
   "metadata": {},
   "outputs": [
    {
     "name": "stdout",
     "output_type": "stream",
     "text": [
      "Empty DataFrame\n",
      "Columns: [breed]\n",
      "Index: []\n"
     ]
    }
   ],
   "source": [
    "q = \"\"\"\n",
    "SELECT DISTINCT ?breed\n",
    "WHERE {\n",
    "  ?breed rdfs:subClassOf [\n",
    "    owl:onProperty <http://www.cognitum.eu/onto#has-short-legs> ;\n",
    "    owl:someValuesFrom ?any\n",
    "  ] .\n",
    "}\n",
    "\"\"\"\n",
    "df = onto.sparql_query(q, asCNL=True)\n",
    "print(df)\n"
   ]
  },
  {
   "cell_type": "code",
   "execution_count": null,
   "id": "ca4d2911",
   "metadata": {
    "vscode": {
     "languageId": "swift"
    }
   },
   "outputs": [],
   "source": [
    "q = \"\"\"\n",
    "SELECT ?cat\n",
    "WHERE {\n",
    "    ?cat a <http://www.cognitum.eu/onto#cat> .\n",
    "    FILTER NOT EXISTS {\n",
    "        ?cat <http://www.cognitum.eu/onto#hasTail> ?tail .\n",
    "    }\n",
    "}\n",
    "\"\"\"\n",
    "df = onto.sparql_query(q, asCNL=True)\n",
    "print(df)"
   ]
  },
  {
   "cell_type": "code",
   "execution_count": null,
   "id": "bc55cd59",
   "metadata": {},
   "outputs": [
    {
     "ename": "SyntaxError",
     "evalue": "invalid syntax (679588296.py, line 1)",
     "output_type": "error",
     "traceback": [
      "  \u001b[36mCell\u001b[39m\u001b[36m \u001b[39m\u001b[32mIn[99]\u001b[39m\u001b[32m, line 1\u001b[39m\n\u001b[31m    \u001b[39m\u001b[31mSELECT DISTINCT ?breed\u001b[39m\n           ^\n\u001b[31mSyntaxError\u001b[39m\u001b[31m:\u001b[39m invalid syntax\n"
     ]
    }
   ],
   "source": [
    "q = \"every breed that has-short-legs\"\n",
    "df = onto.sparql_query_for_instances(q)\n",
    "print(df)"
   ]
  }
 ],
 "metadata": {
  "kernelspec": {
   "display_name": "Python 3",
   "language": "python",
   "name": "python3"
  },
  "language_info": {
   "codemirror_mode": {
    "name": "ipython",
    "version": 3
   },
   "file_extension": ".py",
   "mimetype": "text/x-python",
   "name": "python",
   "nbconvert_exporter": "python",
   "pygments_lexer": "ipython3",
   "version": "3.11.5"
  }
 },
 "nbformat": 4,
 "nbformat_minor": 5
}
