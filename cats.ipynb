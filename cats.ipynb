{
 "cells": [
  {
   "cell_type": "code",
   "execution_count": 2,
   "id": "4757b6b3-54ba-4060-9170-0028d881af3f",
   "metadata": {},
   "outputs": [
    {
     "name": "stdout",
     "output_type": "stream",
     "text": [
      "Requirement already satisfied: cognipy in c:\\users\\krzys\\appdata\\local\\programs\\python\\python311\\lib\\site-packages (1.0.5)\n",
      "Requirement already satisfied: pandas in c:\\users\\krzys\\appdata\\local\\programs\\python\\python311\\lib\\site-packages (from cognipy) (2.2.3)\n",
      "Requirement already satisfied: pydot in c:\\users\\krzys\\appdata\\local\\programs\\python\\python311\\lib\\site-packages (from cognipy) (4.0.0)\n",
      "Requirement already satisfied: ipywidgets in c:\\users\\krzys\\appdata\\local\\programs\\python\\python311\\lib\\site-packages (from cognipy) (8.1.7)\n",
      "Requirement already satisfied: graphviz in c:\\users\\krzys\\appdata\\local\\programs\\python\\python311\\lib\\site-packages (from cognipy) (0.20.3)\n",
      "Requirement already satisfied: comm>=0.1.3 in c:\\users\\krzys\\appdata\\roaming\\python\\python311\\site-packages (from ipywidgets->cognipy) (0.2.2)\n",
      "Requirement already satisfied: ipython>=6.1.0 in c:\\users\\krzys\\appdata\\roaming\\python\\python311\\site-packages (from ipywidgets->cognipy) (9.2.0)\n",
      "Requirement already satisfied: traitlets>=4.3.1 in c:\\users\\krzys\\appdata\\roaming\\python\\python311\\site-packages (from ipywidgets->cognipy) (5.14.3)\n",
      "Requirement already satisfied: widgetsnbextension~=4.0.14 in c:\\users\\krzys\\appdata\\local\\programs\\python\\python311\\lib\\site-packages (from ipywidgets->cognipy) (4.0.14)\n",
      "Requirement already satisfied: jupyterlab_widgets~=3.0.15 in c:\\users\\krzys\\appdata\\local\\programs\\python\\python311\\lib\\site-packages (from ipywidgets->cognipy) (3.0.15)\n",
      "Requirement already satisfied: numpy>=1.23.2 in c:\\users\\krzys\\appdata\\local\\programs\\python\\python311\\lib\\site-packages (from pandas->cognipy) (2.1.2)\n",
      "Requirement already satisfied: python-dateutil>=2.8.2 in c:\\users\\krzys\\appdata\\local\\programs\\python\\python311\\lib\\site-packages (from pandas->cognipy) (2.9.0.post0)\n",
      "Requirement already satisfied: pytz>=2020.1 in c:\\users\\krzys\\appdata\\local\\programs\\python\\python311\\lib\\site-packages (from pandas->cognipy) (2025.1)\n",
      "Requirement already satisfied: tzdata>=2022.7 in c:\\users\\krzys\\appdata\\local\\programs\\python\\python311\\lib\\site-packages (from pandas->cognipy) (2025.1)\n",
      "Requirement already satisfied: pyparsing>=3.0.9 in c:\\users\\krzys\\appdata\\local\\programs\\python\\python311\\lib\\site-packages (from pydot->cognipy) (3.2.3)\n",
      "Requirement already satisfied: colorama in c:\\users\\krzys\\appdata\\local\\programs\\python\\python311\\lib\\site-packages (from ipython>=6.1.0->ipywidgets->cognipy) (0.4.6)\n",
      "Requirement already satisfied: decorator in c:\\users\\krzys\\appdata\\roaming\\python\\python311\\site-packages (from ipython>=6.1.0->ipywidgets->cognipy) (5.2.1)\n",
      "Requirement already satisfied: ipython-pygments-lexers in c:\\users\\krzys\\appdata\\roaming\\python\\python311\\site-packages (from ipython>=6.1.0->ipywidgets->cognipy) (1.1.1)\n",
      "Requirement already satisfied: jedi>=0.16 in c:\\users\\krzys\\appdata\\roaming\\python\\python311\\site-packages (from ipython>=6.1.0->ipywidgets->cognipy) (0.19.2)\n",
      "Requirement already satisfied: matplotlib-inline in c:\\users\\krzys\\appdata\\roaming\\python\\python311\\site-packages (from ipython>=6.1.0->ipywidgets->cognipy) (0.1.7)\n",
      "Requirement already satisfied: prompt_toolkit<3.1.0,>=3.0.41 in c:\\users\\krzys\\appdata\\roaming\\python\\python311\\site-packages (from ipython>=6.1.0->ipywidgets->cognipy) (3.0.51)\n",
      "Requirement already satisfied: pygments>=2.4.0 in c:\\users\\krzys\\appdata\\roaming\\python\\python311\\site-packages (from ipython>=6.1.0->ipywidgets->cognipy) (2.19.1)\n",
      "Requirement already satisfied: stack_data in c:\\users\\krzys\\appdata\\roaming\\python\\python311\\site-packages (from ipython>=6.1.0->ipywidgets->cognipy) (0.6.3)\n",
      "Requirement already satisfied: typing_extensions>=4.6 in c:\\users\\krzys\\appdata\\local\\programs\\python\\python311\\lib\\site-packages (from ipython>=6.1.0->ipywidgets->cognipy) (4.12.2)\n",
      "Requirement already satisfied: six>=1.5 in c:\\users\\krzys\\appdata\\local\\programs\\python\\python311\\lib\\site-packages (from python-dateutil>=2.8.2->pandas->cognipy) (1.17.0)\n",
      "Requirement already satisfied: parso<0.9.0,>=0.8.4 in c:\\users\\krzys\\appdata\\roaming\\python\\python311\\site-packages (from jedi>=0.16->ipython>=6.1.0->ipywidgets->cognipy) (0.8.4)\n",
      "Requirement already satisfied: wcwidth in c:\\users\\krzys\\appdata\\roaming\\python\\python311\\site-packages (from prompt_toolkit<3.1.0,>=3.0.41->ipython>=6.1.0->ipywidgets->cognipy) (0.2.13)\n",
      "Requirement already satisfied: executing>=1.2.0 in c:\\users\\krzys\\appdata\\roaming\\python\\python311\\site-packages (from stack_data->ipython>=6.1.0->ipywidgets->cognipy) (2.2.0)\n",
      "Requirement already satisfied: asttokens>=2.1.0 in c:\\users\\krzys\\appdata\\roaming\\python\\python311\\site-packages (from stack_data->ipython>=6.1.0->ipywidgets->cognipy) (3.0.0)\n",
      "Requirement already satisfied: pure-eval in c:\\users\\krzys\\appdata\\roaming\\python\\python311\\site-packages (from stack_data->ipython>=6.1.0->ipywidgets->cognipy) (0.2.3)\n",
      "Note: you may need to restart the kernel to use updated packages.\n"
     ]
    },
    {
     "name": "stderr",
     "output_type": "stream",
     "text": [
      "\n",
      "[notice] A new release of pip is available: 25.0 -> 25.1.1\n",
      "[notice] To update, run: python.exe -m pip install --upgrade pip\n"
     ]
    }
   ],
   "source": [
    "%pip install cognipy\n",
    "\n",
    "from cognipy.ontology import Ontology, encode_string_for_graph_label\n",
    "import textwrap"
   ]
  },
  {
   "cell_type": "code",
   "execution_count": 3,
   "id": "061546b7-b2b7-4cd5-bc45-740250f914c9",
   "metadata": {},
   "outputs": [],
   "source": [
    "def graph_attribute_formatter(val):\n",
    "    if isinstance(val, list) or isinstance(val, set):\n",
    "        return \" | \".join(list(map(lambda i: encode_string_for_graph_label(graph_attribute_formatter(i)), val)))\n",
    "    elif isinstance(val, dict):\n",
    "        return \" | \".join(list(map(lambda i: i[0] + \" : \" + encode_string_for_graph_label(graph_attribute_formatter(i[1])), val.items())))\n",
    "    else:\n",
    "        return encode_string_for_graph_label(textwrap.fill(str(val), 40))"
   ]
  },
  {
   "cell_type": "code",
   "execution_count": 46,
   "id": "a03871e4-bc73-4cb5-b85f-5c49bdd13993",
   "metadata": {},
   "outputs": [
    {
     "ename": "JSONDecodeError",
     "evalue": "Extra data: line 3 column 3 (char 13)",
     "output_type": "error",
     "traceback": [
      "\u001b[31m---------------------------------------------------------------------------\u001b[39m",
      "\u001b[31mJSONDecodeError\u001b[39m                           Traceback (most recent call last)",
      "\u001b[36mCell\u001b[39m\u001b[36m \u001b[39m\u001b[32mIn[46]\u001b[39m\u001b[32m, line 1\u001b[39m\n\u001b[32m----> \u001b[39m\u001b[32m1\u001b[39m onto = \u001b[43mOntology\u001b[49m\u001b[43m(\u001b[49m\u001b[33;43m\"\u001b[39;49m\u001b[33;43mcnl/file\u001b[39;49m\u001b[33;43m\"\u001b[39;49m\u001b[43m,\u001b[49m\u001b[43m \u001b[49m\u001b[33;43m\"\u001b[39;49m\u001b[33;43mcats.encnl\u001b[39;49m\u001b[33;43m\"\u001b[39;49m\u001b[43m,\u001b[49m\n\u001b[32m      2\u001b[39m \u001b[43m                \u001b[49m\u001b[43mevaluator\u001b[49m\u001b[43m=\u001b[49m\u001b[38;5;28;43;01mlambda\u001b[39;49;00m\u001b[43m \u001b[49m\u001b[43me\u001b[49m\u001b[43m:\u001b[49m\u001b[43m \u001b[49m\u001b[38;5;28;43meval\u001b[39;49m\u001b[43m(\u001b[49m\u001b[43me\u001b[49m\u001b[43m,\u001b[49m\u001b[43m \u001b[49m\u001b[38;5;28;43mglobals\u001b[39;49m\u001b[43m(\u001b[49m\u001b[43m)\u001b[49m\u001b[43m,\u001b[49m\u001b[43m \u001b[49m\u001b[38;5;28;43mlocals\u001b[39;49m\u001b[43m(\u001b[49m\u001b[43m)\u001b[49m\u001b[43m)\u001b[49m\u001b[43m,\u001b[49m\n\u001b[32m      3\u001b[39m \u001b[43m                \u001b[49m\u001b[43mgraph_attribute_formatter\u001b[49m\u001b[43m=\u001b[49m\u001b[43mgraph_attribute_formatter\u001b[49m\u001b[43m)\u001b[49m\n",
      "\u001b[36mFile \u001b[39m\u001b[32mc:\\Users\\krzys\\AppData\\Local\\Programs\\Python\\Python311\\Lib\\site-packages\\cognipy\\ontology.py:103\u001b[39m, in \u001b[36mOntology.__init__\u001b[39m\u001b[34m(self, source, arg, verbose, evaluator, graph_attribute_formatter, stop_on_error)\u001b[39m\n\u001b[32m    101\u001b[39m \u001b[38;5;28mself\u001b[39m._uid = cognipy_create()\n\u001b[32m    102\u001b[39m \u001b[38;5;28;01mif\u001b[39;00m source == \u001b[33m\"\u001b[39m\u001b[33mcnl/file\u001b[39m\u001b[33m\"\u001b[39m:\n\u001b[32m--> \u001b[39m\u001b[32m103\u001b[39m     \u001b[43mcognipy_call\u001b[49m\u001b[43m(\u001b[49m\u001b[38;5;28;43mself\u001b[39;49m\u001b[43m.\u001b[49m\u001b[43m_uid\u001b[49m\u001b[43m,\u001b[49m\u001b[43m \u001b[49m\u001b[33;43m\"\u001b[39;49m\u001b[33;43mLoadCnl\u001b[39;49m\u001b[33;43m\"\u001b[39;49m\u001b[43m,\u001b[49m\u001b[43m \u001b[49m\u001b[43marg\u001b[49m\u001b[43m,\u001b[49m\u001b[43m \u001b[49m\u001b[43mloadAnnotations\u001b[49m\u001b[43m,\u001b[49m\n\u001b[32m    104\u001b[39m \u001b[43m                 \u001b[49m\u001b[43mmodalCheck\u001b[49m\u001b[43m,\u001b[49m\u001b[43m \u001b[49m\u001b[43mpassParamsAsCnl\u001b[49m\u001b[43m,\u001b[49m\u001b[43m \u001b[49m\u001b[43mstop_on_error\u001b[49m\u001b[43m)\u001b[49m\n\u001b[32m    105\u001b[39m \u001b[38;5;28;01melif\u001b[39;00m source == \u001b[33m\"\u001b[39m\u001b[33mcnl/string\u001b[39m\u001b[33m\"\u001b[39m:\n\u001b[32m    106\u001b[39m     cognipy_call(\u001b[38;5;28mself\u001b[39m._uid, \u001b[33m\"\u001b[39m\u001b[33mLoadCnlFromString\u001b[39m\u001b[33m\"\u001b[39m, arg,\n\u001b[32m    107\u001b[39m                  loadAnnotations, modalCheck, passParamsAsCnl, stop_on_error)\n",
      "\u001b[36mFile \u001b[39m\u001b[32mc:\\Users\\krzys\\AppData\\Local\\Programs\\Python\\Python311\\Lib\\site-packages\\cognipy\\interop.py:77\u001b[39m, in \u001b[36mcognipy_call\u001b[39m\u001b[34m(uid, cmd, *args)\u001b[39m\n\u001b[32m     75\u001b[39m \u001b[38;5;28;01mif\u001b[39;00m fl.strip()==\u001b[33m'\u001b[39m\u001b[33m@exception\u001b[39m\u001b[33m'\u001b[39m:\n\u001b[32m     76\u001b[39m     \u001b[38;5;28;01mraise\u001b[39;00m translate_exception(json.loads(js))\n\u001b[32m---> \u001b[39m\u001b[32m77\u001b[39m \u001b[38;5;28;01mreturn\u001b[39;00m \u001b[43mjson\u001b[49m\u001b[43m.\u001b[49m\u001b[43mloads\u001b[49m\u001b[43m(\u001b[49m\u001b[43mjs\u001b[49m\u001b[43m)\u001b[49m\n",
      "\u001b[36mFile \u001b[39m\u001b[32mc:\\Users\\krzys\\AppData\\Local\\Programs\\Python\\Python311\\Lib\\json\\__init__.py:346\u001b[39m, in \u001b[36mloads\u001b[39m\u001b[34m(s, cls, object_hook, parse_float, parse_int, parse_constant, object_pairs_hook, **kw)\u001b[39m\n\u001b[32m    341\u001b[39m     s = s.decode(detect_encoding(s), \u001b[33m'\u001b[39m\u001b[33msurrogatepass\u001b[39m\u001b[33m'\u001b[39m)\n\u001b[32m    343\u001b[39m \u001b[38;5;28;01mif\u001b[39;00m (\u001b[38;5;28mcls\u001b[39m \u001b[38;5;129;01mis\u001b[39;00m \u001b[38;5;28;01mNone\u001b[39;00m \u001b[38;5;129;01mand\u001b[39;00m object_hook \u001b[38;5;129;01mis\u001b[39;00m \u001b[38;5;28;01mNone\u001b[39;00m \u001b[38;5;129;01mand\u001b[39;00m\n\u001b[32m    344\u001b[39m         parse_int \u001b[38;5;129;01mis\u001b[39;00m \u001b[38;5;28;01mNone\u001b[39;00m \u001b[38;5;129;01mand\u001b[39;00m parse_float \u001b[38;5;129;01mis\u001b[39;00m \u001b[38;5;28;01mNone\u001b[39;00m \u001b[38;5;129;01mand\u001b[39;00m\n\u001b[32m    345\u001b[39m         parse_constant \u001b[38;5;129;01mis\u001b[39;00m \u001b[38;5;28;01mNone\u001b[39;00m \u001b[38;5;129;01mand\u001b[39;00m object_pairs_hook \u001b[38;5;129;01mis\u001b[39;00m \u001b[38;5;28;01mNone\u001b[39;00m \u001b[38;5;129;01mand\u001b[39;00m \u001b[38;5;129;01mnot\u001b[39;00m kw):\n\u001b[32m--> \u001b[39m\u001b[32m346\u001b[39m     \u001b[38;5;28;01mreturn\u001b[39;00m \u001b[43m_default_decoder\u001b[49m\u001b[43m.\u001b[49m\u001b[43mdecode\u001b[49m\u001b[43m(\u001b[49m\u001b[43ms\u001b[49m\u001b[43m)\u001b[49m\n\u001b[32m    347\u001b[39m \u001b[38;5;28;01mif\u001b[39;00m \u001b[38;5;28mcls\u001b[39m \u001b[38;5;129;01mis\u001b[39;00m \u001b[38;5;28;01mNone\u001b[39;00m:\n\u001b[32m    348\u001b[39m     \u001b[38;5;28mcls\u001b[39m = JSONDecoder\n",
      "\u001b[36mFile \u001b[39m\u001b[32mc:\\Users\\krzys\\AppData\\Local\\Programs\\Python\\Python311\\Lib\\json\\decoder.py:340\u001b[39m, in \u001b[36mJSONDecoder.decode\u001b[39m\u001b[34m(self, s, _w)\u001b[39m\n\u001b[32m    338\u001b[39m end = _w(s, end).end()\n\u001b[32m    339\u001b[39m \u001b[38;5;28;01mif\u001b[39;00m end != \u001b[38;5;28mlen\u001b[39m(s):\n\u001b[32m--> \u001b[39m\u001b[32m340\u001b[39m     \u001b[38;5;28;01mraise\u001b[39;00m JSONDecodeError(\u001b[33m\"\u001b[39m\u001b[33mExtra data\u001b[39m\u001b[33m\"\u001b[39m, s, end)\n\u001b[32m    341\u001b[39m \u001b[38;5;28;01mreturn\u001b[39;00m obj\n",
      "\u001b[31mJSONDecodeError\u001b[39m: Extra data: line 3 column 3 (char 13)"
     ]
    }
   ],
   "source": [
    "onto = Ontology(\"cnl/file\", \"cats.encnl\",\n",
    "                evaluator=lambda e: eval(e, globals(), locals()),\n",
    "                graph_attribute_formatter=graph_attribute_formatter)"
   ]
  },
  {
   "cell_type": "code",
   "execution_count": 44,
   "id": "8907528a",
   "metadata": {},
   "outputs": [
    {
     "ename": "AttributeError",
     "evalue": "'Ontology' object has no attribute 'classes'",
     "output_type": "error",
     "traceback": [
      "\u001b[31m---------------------------------------------------------------------------\u001b[39m",
      "\u001b[31mAttributeError\u001b[39m                            Traceback (most recent call last)",
      "\u001b[36mCell\u001b[39m\u001b[36m \u001b[39m\u001b[32mIn[44]\u001b[39m\u001b[32m, line 1\u001b[39m\n\u001b[32m----> \u001b[39m\u001b[32m1\u001b[39m \u001b[38;5;28mprint\u001b[39m(\u001b[43monto\u001b[49m\u001b[43m.\u001b[49m\u001b[43mclasses\u001b[49m)\n",
      "\u001b[31mAttributeError\u001b[39m: 'Ontology' object has no attribute 'classes'"
     ]
    }
   ],
   "source": [
    "print(onto.classes)\n"
   ]
  },
  {
   "cell_type": "code",
   "execution_count": 5,
   "id": "45e398e4-c493-486d-9e35-6f4735960437",
   "metadata": {},
   "outputs": [],
   "source": [
    "with open(\"cats_graph.png\", \"wb\") as f:\n",
    "    f.write(onto.create_graph(layout=\"force directed\", format=\"png\"))"
   ]
  },
  {
   "cell_type": "code",
   "execution_count": 45,
   "id": "8fee6edb",
   "metadata": {},
   "outputs": [
    {
     "name": "stdout",
     "output_type": "stream",
     "text": [
      "                   s                   p                       o\n",
      "0    unnatural-breed  sub-class-of[rdfs]                   breed\n",
      "1    unnatural-breed           type[rdf]            \"Class\"[owl]\n",
      "2   British-Longhair           type[rdf]             outdoor-cat\n",
      "3   British-Longhair           type[rdf]          child-friendly\n",
      "4   British-Longhair     has-temperament                  social\n",
      "5   British-Longhair     has-temperament             independent\n",
      "6   British-Longhair     has-temperament              easy-going\n",
      "7   British-Longhair     has-temperament                   loyal\n",
      "8   British-Longhair           type[rdf]        very-intelligent\n",
      "9   British-Longhair           type[rdf]               energetic\n",
      "10  British-Longhair     has-temperament             intelligent\n",
      "11  British-Longhair           type[rdf]         unnatural-breed\n",
      "12  British-Longhair           type[rdf]  \"NamedIndividual\"[owl]\n",
      "13  British-Longhair     has-temperament            affectionate\n",
      "14  British-Longhair          has-origin          United-Kingdom\n",
      "15              Sink           type[rdf]  \"NamedIndividual\"[owl]\n",
      "16               cat           type[rdf]            \"Class\"[owl]\n"
     ]
    }
   ],
   "source": [
    "q = \"\"\"\n",
    "SELECT ?x\n",
    "WHERE {\n",
    "  ?x ?p ?o .\n",
    "}\n",
    "LIMIT 10\n",
    "\"\"\"\n",
    "df = onto.sparql_query(q, asCNL=True)\n",
    "print(df)"
   ]
  }
 ],
 "metadata": {
  "kernelspec": {
   "display_name": "Python 3",
   "language": "python",
   "name": "python3"
  },
  "language_info": {
   "codemirror_mode": {
    "name": "ipython",
    "version": 3
   },
   "file_extension": ".py",
   "mimetype": "text/x-python",
   "name": "python",
   "nbconvert_exporter": "python",
   "pygments_lexer": "ipython3",
   "version": "3.11.5"
  }
 },
 "nbformat": 4,
 "nbformat_minor": 5
}
