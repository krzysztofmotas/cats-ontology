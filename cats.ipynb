{
 "cells": [
  {
   "cell_type": "code",
   "execution_count": 1,
   "id": "4757b6b3-54ba-4060-9170-0028d881af3f",
   "metadata": {},
   "outputs": [
    {
     "name": "stdout",
     "output_type": "stream",
     "text": [
      "Requirement already satisfied: cognipy in c:\\users\\krzys\\appdata\\local\\programs\\python\\python311\\lib\\site-packages (1.0.5)\n",
      "Requirement already satisfied: pandas in c:\\users\\krzys\\appdata\\local\\programs\\python\\python311\\lib\\site-packages (from cognipy) (2.2.3)\n",
      "Requirement already satisfied: pydot in c:\\users\\krzys\\appdata\\local\\programs\\python\\python311\\lib\\site-packages (from cognipy) (4.0.0)\n",
      "Requirement already satisfied: ipywidgets in c:\\users\\krzys\\appdata\\local\\programs\\python\\python311\\lib\\site-packages (from cognipy) (8.1.7)\n",
      "Requirement already satisfied: graphviz in c:\\users\\krzys\\appdata\\local\\programs\\python\\python311\\lib\\site-packages (from cognipy) (0.20.3)\n",
      "Requirement already satisfied: comm>=0.1.3 in c:\\users\\krzys\\appdata\\roaming\\python\\python311\\site-packages (from ipywidgets->cognipy) (0.2.2)\n",
      "Requirement already satisfied: ipython>=6.1.0 in c:\\users\\krzys\\appdata\\roaming\\python\\python311\\site-packages (from ipywidgets->cognipy) (9.2.0)\n",
      "Requirement already satisfied: traitlets>=4.3.1 in c:\\users\\krzys\\appdata\\roaming\\python\\python311\\site-packages (from ipywidgets->cognipy) (5.14.3)\n",
      "Requirement already satisfied: widgetsnbextension~=4.0.14 in c:\\users\\krzys\\appdata\\local\\programs\\python\\python311\\lib\\site-packages (from ipywidgets->cognipy) (4.0.14)\n",
      "Requirement already satisfied: jupyterlab_widgets~=3.0.15 in c:\\users\\krzys\\appdata\\local\\programs\\python\\python311\\lib\\site-packages (from ipywidgets->cognipy) (3.0.15)\n",
      "Requirement already satisfied: numpy>=1.23.2 in c:\\users\\krzys\\appdata\\local\\programs\\python\\python311\\lib\\site-packages (from pandas->cognipy) (2.1.2)\n",
      "Requirement already satisfied: python-dateutil>=2.8.2 in c:\\users\\krzys\\appdata\\local\\programs\\python\\python311\\lib\\site-packages (from pandas->cognipy) (2.9.0.post0)\n",
      "Requirement already satisfied: pytz>=2020.1 in c:\\users\\krzys\\appdata\\local\\programs\\python\\python311\\lib\\site-packages (from pandas->cognipy) (2025.1)\n",
      "Requirement already satisfied: tzdata>=2022.7 in c:\\users\\krzys\\appdata\\local\\programs\\python\\python311\\lib\\site-packages (from pandas->cognipy) (2025.1)\n",
      "Requirement already satisfied: pyparsing>=3.0.9 in c:\\users\\krzys\\appdata\\local\\programs\\python\\python311\\lib\\site-packages (from pydot->cognipy) (3.2.3)\n",
      "Requirement already satisfied: colorama in c:\\users\\krzys\\appdata\\local\\programs\\python\\python311\\lib\\site-packages (from ipython>=6.1.0->ipywidgets->cognipy) (0.4.6)\n",
      "Requirement already satisfied: decorator in c:\\users\\krzys\\appdata\\roaming\\python\\python311\\site-packages (from ipython>=6.1.0->ipywidgets->cognipy) (5.2.1)\n",
      "Requirement already satisfied: ipython-pygments-lexers in c:\\users\\krzys\\appdata\\roaming\\python\\python311\\site-packages (from ipython>=6.1.0->ipywidgets->cognipy) (1.1.1)\n",
      "Requirement already satisfied: jedi>=0.16 in c:\\users\\krzys\\appdata\\roaming\\python\\python311\\site-packages (from ipython>=6.1.0->ipywidgets->cognipy) (0.19.2)\n",
      "Requirement already satisfied: matplotlib-inline in c:\\users\\krzys\\appdata\\roaming\\python\\python311\\site-packages (from ipython>=6.1.0->ipywidgets->cognipy) (0.1.7)\n",
      "Requirement already satisfied: prompt_toolkit<3.1.0,>=3.0.41 in c:\\users\\krzys\\appdata\\roaming\\python\\python311\\site-packages (from ipython>=6.1.0->ipywidgets->cognipy) (3.0.51)\n",
      "Requirement already satisfied: pygments>=2.4.0 in c:\\users\\krzys\\appdata\\roaming\\python\\python311\\site-packages (from ipython>=6.1.0->ipywidgets->cognipy) (2.19.1)\n",
      "Requirement already satisfied: stack_data in c:\\users\\krzys\\appdata\\roaming\\python\\python311\\site-packages (from ipython>=6.1.0->ipywidgets->cognipy) (0.6.3)\n",
      "Requirement already satisfied: typing_extensions>=4.6 in c:\\users\\krzys\\appdata\\local\\programs\\python\\python311\\lib\\site-packages (from ipython>=6.1.0->ipywidgets->cognipy) (4.12.2)\n",
      "Requirement already satisfied: six>=1.5 in c:\\users\\krzys\\appdata\\local\\programs\\python\\python311\\lib\\site-packages (from python-dateutil>=2.8.2->pandas->cognipy) (1.17.0)\n",
      "Requirement already satisfied: parso<0.9.0,>=0.8.4 in c:\\users\\krzys\\appdata\\roaming\\python\\python311\\site-packages (from jedi>=0.16->ipython>=6.1.0->ipywidgets->cognipy) (0.8.4)\n",
      "Requirement already satisfied: wcwidth in c:\\users\\krzys\\appdata\\roaming\\python\\python311\\site-packages (from prompt_toolkit<3.1.0,>=3.0.41->ipython>=6.1.0->ipywidgets->cognipy) (0.2.13)\n",
      "Requirement already satisfied: executing>=1.2.0 in c:\\users\\krzys\\appdata\\roaming\\python\\python311\\site-packages (from stack_data->ipython>=6.1.0->ipywidgets->cognipy) (2.2.0)\n",
      "Requirement already satisfied: asttokens>=2.1.0 in c:\\users\\krzys\\appdata\\roaming\\python\\python311\\site-packages (from stack_data->ipython>=6.1.0->ipywidgets->cognipy) (3.0.0)\n",
      "Requirement already satisfied: pure-eval in c:\\users\\krzys\\appdata\\roaming\\python\\python311\\site-packages (from stack_data->ipython>=6.1.0->ipywidgets->cognipy) (0.2.3)\n",
      "Note: you may need to restart the kernel to use updated packages.\n"
     ]
    },
    {
     "name": "stderr",
     "output_type": "stream",
     "text": [
      "\n",
      "[notice] A new release of pip is available: 25.0 -> 25.1.1\n",
      "[notice] To update, run: python.exe -m pip install --upgrade pip\n"
     ]
    }
   ],
   "source": [
    "%pip install cognipy\n",
    "\n",
    "from cognipy.ontology import Ontology, encode_string_for_graph_label\n",
    "import textwrap"
   ]
  },
  {
   "cell_type": "code",
   "execution_count": 2,
   "id": "061546b7-b2b7-4cd5-bc45-740250f914c9",
   "metadata": {},
   "outputs": [],
   "source": [
    "def graph_attribute_formatter(val):\n",
    "    if isinstance(val, list) or isinstance(val, set):\n",
    "        return \" | \".join(list(map(lambda i: encode_string_for_graph_label(graph_attribute_formatter(i)), val)))\n",
    "    elif isinstance(val, dict):\n",
    "        return \" | \".join(list(map(lambda i: i[0] + \" : \" + encode_string_for_graph_label(graph_attribute_formatter(i[1])), val.items())))\n",
    "    else:\n",
    "        return encode_string_for_graph_label(textwrap.fill(str(val), 40))"
   ]
  },
  {
   "cell_type": "code",
   "execution_count": 6,
   "id": "a03871e4-bc73-4cb5-b85f-5c49bdd13993",
   "metadata": {},
   "outputs": [],
   "source": [
    "onto = Ontology(\"cnl/file\", \"cats.encnl\",\n",
    "                evaluator=lambda e: eval(e, globals(), locals()),\n",
    "                graph_attribute_formatter=graph_attribute_formatter)"
   ]
  },
  {
   "cell_type": "code",
   "execution_count": null,
   "id": "45e398e4-c493-486d-9e35-6f4735960437",
   "metadata": {},
   "outputs": [],
   "source": [
    "with open(\"cognipy-graph.png\", \"wb\") as f:\n",
    "    f.write(onto.create_graph(layout=\"force directed\", format=\"png\"))"
   ]
  }
 ],
 "metadata": {
  "kernelspec": {
   "display_name": "Python 3",
   "language": "python",
   "name": "python3"
  },
  "language_info": {
   "codemirror_mode": {
    "name": "ipython",
    "version": 3
   },
   "file_extension": ".py",
   "mimetype": "text/x-python",
   "name": "python",
   "nbconvert_exporter": "python",
   "pygments_lexer": "ipython3",
   "version": "3.11.5"
  }
 },
 "nbformat": 4,
 "nbformat_minor": 5
}
