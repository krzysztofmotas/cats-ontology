{
 "cells": [
  {
   "cell_type": "code",
   "execution_count": null,
   "id": "4757b6b3-54ba-4060-9170-0028d881af3f",
   "metadata": {},
   "outputs": [],
   "source": [
    "from cognipy.ontology import Ontology, encode_string_for_graph_label\n",
    "import textwrap\n",
    "\n",
    "def graph_attribute_formatter(val):\n",
    "    if isinstance(val, list) or isinstance(val, set):\n",
    "        return \" | \".join(list(map(lambda i: encode_string_for_graph_label(graph_attribute_formatter(i)), val)))\n",
    "    elif isinstance(val, dict):\n",
    "        return \" | \".join(list(map(lambda i: i[0] + \" : \" + encode_string_for_graph_label(graph_attribute_formatter(i[1])), val.items())))\n",
    "    else:\n",
    "        return encode_string_for_graph_label(textwrap.fill(str(val), 40))\n",
    "\n",
    "onto = Ontology(\"cnl/file\", \"cats.encnl\",\n",
    "                evaluator=lambda e: eval(e, globals(), locals()),\n",
    "                graph_attribute_formatter=graph_attribute_formatter)\n",
    "\n",
    "onto.draw_graph(layout=\"hierarchical\")"
   ]
  }
 ],
 "metadata": {
  "kernelspec": {
   "display_name": "Python 3 (ipykernel)",
   "language": "python",
   "name": "python3"
  },
  "language_info": {
   "codemirror_mode": {
    "name": "ipython",
    "version": 3
   },
   "file_extension": ".py",
   "mimetype": "text/x-python",
   "name": "python",
   "nbconvert_exporter": "python",
   "pygments_lexer": "ipython3",
   "version": "3.13.1"
  }
 },
 "nbformat": 4,
 "nbformat_minor": 5
}
